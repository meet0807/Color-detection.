{
 "cells": [
  {
   "cell_type": "code",
   "execution_count": 3,
   "id": "5f90127a-79bb-414b-8fae-7d62f2dec4f4",
   "metadata": {},
   "outputs": [
    {
     "name": "stdout",
     "output_type": "stream",
     "text": [
      "Requirement already satisfied: opencv-python in c:\\users\\dell\\anaconda 3\\lib\\site-packages (4.11.0.86)\n",
      "Requirement already satisfied: pandas in c:\\users\\dell\\anaconda 3\\lib\\site-packages (2.1.4)\n",
      "Requirement already satisfied: numpy>=1.21.2 in c:\\users\\dell\\anaconda 3\\lib\\site-packages (from opencv-python) (1.26.4)\n",
      "Requirement already satisfied: python-dateutil>=2.8.2 in c:\\users\\dell\\anaconda 3\\lib\\site-packages (from pandas) (2.8.2)\n",
      "Requirement already satisfied: pytz>=2020.1 in c:\\users\\dell\\anaconda 3\\lib\\site-packages (from pandas) (2023.3.post1)\n",
      "Requirement already satisfied: tzdata>=2022.1 in c:\\users\\dell\\anaconda 3\\lib\\site-packages (from pandas) (2023.3)\n",
      "Requirement already satisfied: six>=1.5 in c:\\users\\dell\\anaconda 3\\lib\\site-packages (from python-dateutil>=2.8.2->pandas) (1.16.0)\n"
     ]
    }
   ],
   "source": [
    "!pip install opencv-python pandas"
   ]
  },
  {
   "cell_type": "code",
   "execution_count": 6,
   "id": "8681ec59-891c-4555-8b40-e071c12de33a",
   "metadata": {},
   "outputs": [],
   "source": [
    "import cv2\n",
    "import pandas as pd\n",
    "\n",
    "# Load the image\n",
    "image_path = 'image.jpg'  \n",
    "img = cv2.imread(image_path)\n",
    "\n",
    "# Load color dataset\n",
    "csv_path = 'color.csv'\n",
    "colors = pd.read_csv(csv_path)\n",
    "\n",
    "def get_color_name(R, G, B):\n",
    "    min_dist = float('inf')\n",
    "    color_name = ''\n",
    "    for i in range(len(colors)):\n",
    "        d = abs(R - int(colors.loc[i, \"R\"])) + abs(G - int(colors.loc[i, \"G\"])) + abs(B - int(colors.loc[i, \"B\"]))\n",
    "        if d < min_dist:\n",
    "            min_dist = d\n",
    "            color_name = colors.loc[i, \"color_name\"]\n",
    "    return color_name\n",
    "\n",
    "def detect_color(event, x, y, flags, param):\n",
    "    if event == cv2.EVENT_LBUTTONDBLCLK:\n",
    "        b, g, r = img[y, x]\n",
    "        color_name = get_color_name(r, g, b)\n",
    "        text = f\"{color_name} R={r} G={g} B={b}\"\n",
    "        \n",
    "    \n",
    "        cv2.rectangle(img, (0, 0), (500, 50), (int(b), int(g), int(r)), -1)\n",
    "        cv2.putText(img, text, (10, 30), cv2.FONT_HERSHEY_SIMPLEX, 0.7, (255, 255, 255), 2)\n",
    "        cv2.imshow(\"Color Detection\", img)\n",
    "\n",
    "cv2.imshow(\"Color Detection\", img)\n",
    "cv2.setMouseCallback(\"Color Detection\", detect_color)\n",
    "cv2.waitKey(0)\n",
    "cv2.destroyAllWindows()"
   ]
  },
  {
   "cell_type": "code",
   "execution_count": null,
   "id": "3aad29b3-75fa-4c99-921e-03bde6cfac9e",
   "metadata": {},
   "outputs": [],
   "source": []
  }
 ],
 "metadata": {
  "kernelspec": {
   "display_name": "Python 3 (ipykernel)",
   "language": "python",
   "name": "python3"
  },
  "language_info": {
   "codemirror_mode": {
    "name": "ipython",
    "version": 3
   },
   "file_extension": ".py",
   "mimetype": "text/x-python",
   "name": "python",
   "nbconvert_exporter": "python",
   "pygments_lexer": "ipython3",
   "version": "3.11.7"
  }
 },
 "nbformat": 4,
 "nbformat_minor": 5
}
